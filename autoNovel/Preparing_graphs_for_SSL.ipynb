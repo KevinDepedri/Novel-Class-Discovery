{
 "cells": [
  {
   "cell_type": "markdown",
   "id": "27503d1e",
   "metadata": {},
   "source": [
    "# Things that need preparing\n",
    "## CHANGE_SSL_METHOD\n",
    "### change_for_archiecture\n",
    "\n",
    "* old resnet\n",
    "* new resnet\n",
    "\n",
    "****\n",
    "\n",
    "### SSL methods used\n",
    "\n",
    "* Barlow_twins\n",
    "* simsiam\n",
    "* supcon\n",
    "* swav\n",
    "\n",
    "****\n",
    "\n",
    "## Domain adaptation \n",
    "* MNISIT\n",
    "* MNISIT_MIX\n"
   ]
  },
  {
   "cell_type": "code",
   "execution_count": 1,
   "id": "49692deb",
   "metadata": {},
   "outputs": [],
   "source": [
    "import wandb\n",
    "\n",
    "from utils.util import BCE, PairEnum, cluster_acc, Identity, AverageMeter, seed_torch,accuracy\n",
    "from data.cifarloader import CIFAR10Loader, CIFAR10LoaderMix, CIFAR100Loader, CIFAR100LoaderMix\n",
    "from models.resnet import ResNet, BasicBlock\n",
    "from sklearn.metrics.cluster import normalized_mutual_info_score as nmi_score\n",
    "from sklearn.metrics import adjusted_rand_score as ari_score\n",
    "import torch\n",
    "import torch.nn as nn\n",
    "import torch.nn.functional as F\n",
    "from torch.optim import SGD, lr_scheduler\n",
    "import numpy as np\n",
    "from tqdm import tqdm\n",
    "import pandas as pd\n"
   ]
  },
  {
   "cell_type": "code",
   "execution_count": 2,
   "id": "1605cf33",
   "metadata": {},
   "outputs": [],
   "source": [
    "import matplotlib.pyplot as plt\n",
    "%matplotlib inline"
   ]
  },
  {
   "cell_type": "code",
   "execution_count": 3,
   "id": "213a206d",
   "metadata": {},
   "outputs": [],
   "source": [
    "# all these conditions for cifar 10 \n",
    "seed_torch(0)\n",
    "num_labeled_classes=5\n",
    "num_unlabeled_classes=5\n",
    "num_classes = num_labeled_classes + num_unlabeled_classes\n",
    "cuda = torch.cuda.is_available()\n",
    "device = torch.device(\"cuda\" if cuda else \"cpu\")"
   ]
  },
  {
   "cell_type": "code",
   "execution_count": 5,
   "id": "bacff870",
   "metadata": {},
   "outputs": [],
   "source": [
    "api = wandb.Api()# used to import weight and bias pipeline\n"
   ]
  },
  {
   "cell_type": "markdown",
   "id": "7833ba2c",
   "metadata": {},
   "source": [
    "## STEP 3\n",
    "## Change of architecutre"
   ]
  },
  {
   "cell_type": "code",
   "execution_count": 6,
   "id": "e03a0c40",
   "metadata": {},
   "outputs": [],
   "source": [
    "## STEP 1\n",
    "run_old_SSL = api.run(\"mhaggag96/trends_project/1ni39qdj\").history()\n",
    "run_new_SSL = api.run(\"mhaggag96/trends_project/1o6drm9k\").history()\n",
    "run_old_SSL_model = 'data/experiments/selfsupervised_learning/rotnet_cifar10_basicconfig.pth'\n",
    "run_new_SSL_model = 'data/experiments/selfsupervised_learning/rotnet_cifar10_new_config.pth'\n",
    "## STEP 2\n",
    "run_old_SL = api.run(\"mhaggag96/trends_project/vp78kjp8\").history()\n",
    "run_new_SL = api.run(\"mhaggag96/trends_project/2sderoky\").history()\n",
    "run_old_SL_model = 'data/experiments/supervised_learning/resnet_rotnet_cifar10_basicconfig.pth'\n",
    "run_new_SL_model = 'data/experiments/supervised_learning/resnet_rotnet_cifar10_new_config.pth'\n",
    "## STEP 3\n",
    "run_old_NCL = api.run(\"mhaggag96/trends_project/1ggpmba1\").history()\n",
    "run_new_NCL = api.run(\"mhaggag96/trends_project/2wov4ow5\").history()\n",
    "run_old_SSL_model = 'data/experiments/auto_novel/resnet_IL_cifar10_basic_config.pth'\n",
    "run_old_SSL_model = 'data/experiments/auto_novel/resnet_IL_cifar10_new_config.pth'"
   ]
  },
  {
   "cell_type": "markdown",
   "id": "7f2efdcb",
   "metadata": {},
   "source": [
    "### analysis on SSL step "
   ]
  },
  {
   "cell_type": "code",
   "execution_count": 7,
   "id": "47b0edb2",
   "metadata": {},
   "outputs": [],
   "source": [
    "from selfsupervised_learning import resnet_sim,ResNet\n"
   ]
  },
  {
   "cell_type": "code",
   "execution_count": 8,
   "id": "e41aeec5",
   "metadata": {},
   "outputs": [
    {
     "ename": "NameError",
     "evalue": "name 'is_adapters' is not defined",
     "output_type": "error",
     "traceback": [
      "\u001b[0;31m---------------------------------------------------------------------------\u001b[0m",
      "\u001b[0;31mNameError\u001b[0m                                 Traceback (most recent call last)",
      "Input \u001b[0;32mIn [8]\u001b[0m, in \u001b[0;36m<cell line: 1>\u001b[0;34m()\u001b[0m\n\u001b[0;32m----> 1\u001b[0m model \u001b[38;5;241m=\u001b[39m \u001b[43mResNet\u001b[49m\u001b[43m(\u001b[49m\u001b[43mBasicBlock\u001b[49m\u001b[43m,\u001b[49m\u001b[43m \u001b[49m\u001b[43m[\u001b[49m\u001b[38;5;241;43m2\u001b[39;49m\u001b[43m,\u001b[49m\u001b[43m \u001b[49m\u001b[38;5;241;43m2\u001b[39;49m\u001b[43m,\u001b[49m\u001b[43m \u001b[49m\u001b[38;5;241;43m2\u001b[39;49m\u001b[43m,\u001b[49m\u001b[43m \u001b[49m\u001b[38;5;241;43m2\u001b[39;49m\u001b[43m]\u001b[49m\u001b[43m,\u001b[49m\u001b[43m \u001b[49m\u001b[43mnum_classes\u001b[49m\u001b[38;5;241;43m=\u001b[39;49m\u001b[38;5;241;43m4\u001b[39;49m\u001b[43m)\u001b[49m\n",
      "File \u001b[0;32m/media/mostafahaggag/Shared_Drive/semster_3/trends_and_applications/project/Trends_projects/autoNovel/selfsupervised_learning.py:70\u001b[0m, in \u001b[0;36mResNet.__init__\u001b[0;34m(self, block, num_blocks, num_classes)\u001b[0m\n\u001b[1;32m     68\u001b[0m \u001b[38;5;28mself\u001b[39m\u001b[38;5;241m.\u001b[39mlinear \u001b[38;5;241m=\u001b[39m nn\u001b[38;5;241m.\u001b[39mLinear(\u001b[38;5;241m512\u001b[39m \u001b[38;5;241m*\u001b[39m block\u001b[38;5;241m.\u001b[39mexpansion, num_classes)\n\u001b[1;32m     69\u001b[0m \u001b[38;5;66;03m# If is_adapters is true then add a parallel_convolution layer\u001b[39;00m\n\u001b[0;32m---> 70\u001b[0m \u001b[38;5;28;01mif\u001b[39;00m \u001b[43mis_adapters\u001b[49m:  \u001b[38;5;66;03m# Not used since adapters is set to 0\u001b[39;00m\n\u001b[1;32m     71\u001b[0m     \u001b[38;5;28mself\u001b[39m\u001b[38;5;241m.\u001b[39mparallel_conv1 \u001b[38;5;241m=\u001b[39m nn\u001b[38;5;241m.\u001b[39mConv2d(\u001b[38;5;241m3\u001b[39m, \u001b[38;5;241m64\u001b[39m, kernel_size\u001b[38;5;241m=\u001b[39m\u001b[38;5;241m1\u001b[39m, stride\u001b[38;5;241m=\u001b[39m\u001b[38;5;241m1\u001b[39m, bias\u001b[38;5;241m=\u001b[39m\u001b[38;5;28;01mFalse\u001b[39;00m)\n",
      "\u001b[0;31mNameError\u001b[0m: name 'is_adapters' is not defined"
     ]
    }
   ],
   "source": [
    "model = ResNet(BasicBlock, [2, 2, 2, 2], num_classes=4)\n"
   ]
  },
  {
   "cell_type": "code",
   "execution_count": null,
   "id": "c758057a",
   "metadata": {},
   "outputs": [],
   "source": []
  },
  {
   "cell_type": "code",
   "execution_count": null,
   "id": "cc11f99a",
   "metadata": {},
   "outputs": [],
   "source": []
  },
  {
   "cell_type": "code",
   "execution_count": null,
   "id": "7a796d75",
   "metadata": {},
   "outputs": [],
   "source": []
  }
 ],
 "metadata": {
  "kernelspec": {
   "display_name": "Python 3 (ipykernel)",
   "language": "python",
   "name": "python3"
  },
  "language_info": {
   "codemirror_mode": {
    "name": "ipython",
    "version": 3
   },
   "file_extension": ".py",
   "mimetype": "text/x-python",
   "name": "python",
   "nbconvert_exporter": "python",
   "pygments_lexer": "ipython3",
   "version": "3.8.10"
  }
 },
 "nbformat": 4,
 "nbformat_minor": 5
}
